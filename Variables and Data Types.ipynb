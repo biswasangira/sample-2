{
 "cells": [
  {
   "cell_type": "code",
   "execution_count": 1,
   "id": "d48a7932",
   "metadata": {},
   "outputs": [
    {
     "name": "stdout",
     "output_type": "stream",
     "text": [
      "Hello World\n"
     ]
    }
   ],
   "source": [
    "# This is a comment\n",
    "print('Hello World')"
   ]
  },
  {
   "cell_type": "markdown",
   "id": "52043557",
   "metadata": {},
   "source": [
    "## Variables\n",
    "\n",
    "Variables are containers for storing data values."
   ]
  },
  {
   "cell_type": "code",
   "execution_count": 2,
   "id": "a5c70ef9",
   "metadata": {},
   "outputs": [
    {
     "name": "stdout",
     "output_type": "stream",
     "text": [
      "10\n"
     ]
    }
   ],
   "source": [
    "x = 10\n",
    "print(x)"
   ]
  },
  {
   "cell_type": "code",
   "execution_count": 3,
   "id": "9d79da1b",
   "metadata": {},
   "outputs": [
    {
     "data": {
      "text/plain": [
       "30"
      ]
     },
     "execution_count": 3,
     "metadata": {},
     "output_type": "execute_result"
    }
   ],
   "source": [
    "y = x*3  # 10*3 = 30\n",
    "y"
   ]
  },
  {
   "cell_type": "markdown",
   "id": "02dd8b9a",
   "metadata": {},
   "source": [
    "### Rules for Defining a Variable \n",
    "\n",
    "1. A variable name must start with a letter or underscore (_)\n",
    "\n",
    "2. A variable name can only contain alpha numeric values\n",
    "Alpha numeric - Alphabets, Numbers, Underscore\n",
    "\n",
    "3. Variable names are case sensitive"
   ]
  },
  {
   "cell_type": "code",
   "execution_count": 4,
   "id": "4be27ac5",
   "metadata": {},
   "outputs": [
    {
     "name": "stdout",
     "output_type": "stream",
     "text": [
      "Name:  John\n",
      "Course:  Data Science\n",
      "Marks:  85\n"
     ]
    }
   ],
   "source": [
    "# Multiple Variable Assignment\n",
    "\n",
    "name, course, marks = 'John', 'Data Science', 85\n",
    "print('Name: ', name)\n",
    "print('Course: ', course)\n",
    "print('Marks: ', marks)"
   ]
  },
  {
   "cell_type": "code",
   "execution_count": 5,
   "id": "ef94b552",
   "metadata": {},
   "outputs": [
    {
     "name": "stdout",
     "output_type": "stream",
     "text": [
      "X:  20\n",
      "Y:  10\n"
     ]
    }
   ],
   "source": [
    "# Variable Swapping\n",
    "\n",
    "x = 10\n",
    "y = 20\n",
    "\n",
    "x,y = y,x # 20, 10\n",
    "\n",
    "print('X: ', x)\n",
    "print('Y: ', y)"
   ]
  },
  {
   "cell_type": "markdown",
   "id": "fd2b4720",
   "metadata": {},
   "source": [
    "## Data Types\n",
    "\n",
    "It is used to define the kind of data in a variable\n",
    "\n",
    "1. Integer - Whole Numbers\n",
    "\n",
    "2. Float - Decimal Numbers\n",
    "\n",
    "3. Complex - Complex Numbers\n",
    "\n",
    "y = 35 + 7j\n",
    "\n",
    "4. Boolean - True or False\n",
    "\n",
    "5. String - Collection of characters enclosed in single or double quotation marks\n",
    "\n",
    "word = 'Hello'\n",
    "\n",
    "6. List - Mutable ordered collection of objects.\n",
    "\n",
    "marks = [34,24,64,23,75,24]\n",
    "\n",
    "7. Tuple - Immutable ordered collection of objects\n",
    "\n",
    "marks = (34,24,64,23,75,24)\n",
    "\n",
    "8. Set - Mutable unordered collection of unique objects\n",
    "\n",
    "marks = {34,24,64,23,75,24}\n",
    "\n",
    "9. Dictionary - Key value pairs\n",
    "\n",
    "marks = {'Maths': 78, 'Science': 64, 'English':82}"
   ]
  },
  {
   "cell_type": "markdown",
   "id": "22b31cc7",
   "metadata": {},
   "source": [
    "### Mutable and Immutable Data Types\n",
    "\n",
    "Mutable Data Types can be changed after creation\n",
    "\n",
    "Immutable Data Type cannot be changed after creation"
   ]
  },
  {
   "cell_type": "code",
   "execution_count": 7,
   "id": "b12b8eda",
   "metadata": {},
   "outputs": [
    {
     "data": {
      "text/plain": [
       "float"
      ]
     },
     "execution_count": 7,
     "metadata": {},
     "output_type": "execute_result"
    }
   ],
   "source": [
    "x = 10.7\n",
    "type(x)"
   ]
  },
  {
   "cell_type": "markdown",
   "id": "53971370",
   "metadata": {},
   "source": [
    "### Strings"
   ]
  },
  {
   "cell_type": "code",
   "execution_count": 8,
   "id": "0045b4f7",
   "metadata": {},
   "outputs": [
    {
     "data": {
      "text/plain": [
       "'o'"
      ]
     },
     "execution_count": 8,
     "metadata": {},
     "output_type": "execute_result"
    }
   ],
   "source": [
    "word = 'Hello World'\n",
    "word[7]"
   ]
  },
  {
   "cell_type": "code",
   "execution_count": 9,
   "id": "fcfab4bd",
   "metadata": {},
   "outputs": [
    {
     "data": {
      "text/plain": [
       "'lo Wo'"
      ]
     },
     "execution_count": 9,
     "metadata": {},
     "output_type": "execute_result"
    }
   ],
   "source": [
    "# word[start index:stop index: step value]\n",
    "word[3:8]"
   ]
  },
  {
   "cell_type": "code",
   "execution_count": 10,
   "id": "11f39739",
   "metadata": {},
   "outputs": [
    {
     "data": {
      "text/plain": [
       "'Hello Wo'"
      ]
     },
     "execution_count": 10,
     "metadata": {},
     "output_type": "execute_result"
    }
   ],
   "source": [
    "word[:8]"
   ]
  },
  {
   "cell_type": "code",
   "execution_count": 11,
   "id": "6dfd338c",
   "metadata": {},
   "outputs": [
    {
     "data": {
      "text/plain": [
       "'lo World'"
      ]
     },
     "execution_count": 11,
     "metadata": {},
     "output_type": "execute_result"
    }
   ],
   "source": [
    "word[3:]"
   ]
  },
  {
   "cell_type": "code",
   "execution_count": 12,
   "id": "6da26725",
   "metadata": {},
   "outputs": [
    {
     "data": {
      "text/plain": [
       "'HloWrd'"
      ]
     },
     "execution_count": 12,
     "metadata": {},
     "output_type": "execute_result"
    }
   ],
   "source": [
    "word[::2]"
   ]
  },
  {
   "cell_type": "raw",
   "id": "f9c0f209",
   "metadata": {},
   "source": [
    "join(): Converts elements of an collection into a string"
   ]
  },
  {
   "cell_type": "code",
   "execution_count": 13,
   "id": "51882c7b",
   "metadata": {},
   "outputs": [
    {
     "data": {
      "text/plain": [
       "'Hey ! How are you ?'"
      ]
     },
     "execution_count": 13,
     "metadata": {},
     "output_type": "execute_result"
    }
   ],
   "source": [
    "words = ['Hey', '!', 'How', 'are', 'you', '?']\n",
    "sent = ' '.join(words)\n",
    "sent"
   ]
  },
  {
   "cell_type": "raw",
   "id": "98d49097",
   "metadata": {},
   "source": [
    "lower(): Converts a string into lowercase"
   ]
  },
  {
   "cell_type": "code",
   "execution_count": 14,
   "id": "60bfb06a",
   "metadata": {},
   "outputs": [
    {
     "data": {
      "text/plain": [
       "'hello'"
      ]
     },
     "execution_count": 14,
     "metadata": {},
     "output_type": "execute_result"
    }
   ],
   "source": [
    "word = 'HELLO'\n",
    "word_lower = word.lower()\n",
    "word_lower"
   ]
  },
  {
   "cell_type": "raw",
   "id": "63b1db33",
   "metadata": {},
   "source": [
    "upper(): Converts a string into upper case"
   ]
  },
  {
   "cell_type": "code",
   "execution_count": 15,
   "id": "d2acd88e",
   "metadata": {},
   "outputs": [
    {
     "data": {
      "text/plain": [
       "'HELLO'"
      ]
     },
     "execution_count": 15,
     "metadata": {},
     "output_type": "execute_result"
    }
   ],
   "source": [
    "word = 'hello'\n",
    "word_upper = word.upper()\n",
    "word_upper"
   ]
  },
  {
   "cell_type": "raw",
   "id": "78dbcbbe",
   "metadata": {},
   "source": [
    "replace(): Returns a string where a specified value is replaced with a specified value"
   ]
  },
  {
   "cell_type": "code",
   "execution_count": 16,
   "id": "396ddcbf",
   "metadata": {},
   "outputs": [
    {
     "data": {
      "text/plain": [
       "'Hello! It is nice to meet you! How have you been!'"
      ]
     },
     "execution_count": 16,
     "metadata": {},
     "output_type": "execute_result"
    }
   ],
   "source": [
    "sent = 'Hello. It is nice to meet you. How have you been.'\n",
    "sent.replace('.', '!')"
   ]
  },
  {
   "cell_type": "raw",
   "id": "cdc7aec7",
   "metadata": {},
   "source": [
    "split(): Splits the string at the specified separator and returns a list"
   ]
  },
  {
   "cell_type": "code",
   "execution_count": 17,
   "id": "9253915d",
   "metadata": {},
   "outputs": [
    {
     "data": {
      "text/plain": [
       "['Hello', 'How', 'have', 'you', 'been?']"
      ]
     },
     "execution_count": 17,
     "metadata": {},
     "output_type": "execute_result"
    }
   ],
   "source": [
    "sent = 'Hello How have you been?'\n",
    "words = sent.split()\n",
    "words"
   ]
  },
  {
   "cell_type": "markdown",
   "id": "9ebaf813",
   "metadata": {},
   "source": [
    "### Tuples"
   ]
  },
  {
   "cell_type": "code",
   "execution_count": 18,
   "id": "1397a783",
   "metadata": {},
   "outputs": [
    {
     "data": {
      "text/plain": [
       "20"
      ]
     },
     "execution_count": 18,
     "metadata": {},
     "output_type": "execute_result"
    }
   ],
   "source": [
    "# Ordered\n",
    "\n",
    "t = (5,10,15,20,25)\n",
    "t[3]"
   ]
  },
  {
   "cell_type": "code",
   "execution_count": 19,
   "id": "0130c3c2",
   "metadata": {},
   "outputs": [
    {
     "ename": "TypeError",
     "evalue": "'tuple' object does not support item assignment",
     "output_type": "error",
     "traceback": [
      "\u001b[1;31m---------------------------------------------------------------------------\u001b[0m",
      "\u001b[1;31mTypeError\u001b[0m                                 Traceback (most recent call last)",
      "\u001b[1;32m~\\AppData\\Local\\Temp\\ipykernel_16028\\1329031999.py\u001b[0m in \u001b[0;36m<module>\u001b[1;34m\u001b[0m\n\u001b[0;32m      1\u001b[0m \u001b[1;31m# Immutable\u001b[0m\u001b[1;33m\u001b[0m\u001b[1;33m\u001b[0m\u001b[0m\n\u001b[0;32m      2\u001b[0m \u001b[1;33m\u001b[0m\u001b[0m\n\u001b[1;32m----> 3\u001b[1;33m \u001b[0mt\u001b[0m\u001b[1;33m[\u001b[0m\u001b[1;36m2\u001b[0m\u001b[1;33m]\u001b[0m \u001b[1;33m=\u001b[0m \u001b[1;36m100\u001b[0m\u001b[1;33m\u001b[0m\u001b[1;33m\u001b[0m\u001b[0m\n\u001b[0m",
      "\u001b[1;31mTypeError\u001b[0m: 'tuple' object does not support item assignment"
     ]
    }
   ],
   "source": [
    "# Immutable\n",
    "\n",
    "t[2] = 100"
   ]
  },
  {
   "cell_type": "code",
   "execution_count": 20,
   "id": "5849d9d9",
   "metadata": {},
   "outputs": [
    {
     "data": {
      "text/plain": [
       "(1, 3, 3, 5, 5, 2, 5, 6, 7)"
      ]
     },
     "execution_count": 20,
     "metadata": {},
     "output_type": "execute_result"
    }
   ],
   "source": [
    "# Allows Duplicate Values\n",
    "\n",
    "t = (1,3,3,5,5,2,5,6,7)\n",
    "t"
   ]
  },
  {
   "cell_type": "code",
   "execution_count": 21,
   "id": "072da5fd",
   "metadata": {},
   "outputs": [
    {
     "data": {
      "text/plain": [
       "9"
      ]
     },
     "execution_count": 21,
     "metadata": {},
     "output_type": "execute_result"
    }
   ],
   "source": [
    "# len(): returns the number of elements in the tuple\n",
    "\n",
    "len(t)"
   ]
  },
  {
   "cell_type": "code",
   "execution_count": 22,
   "id": "a4a5e396",
   "metadata": {},
   "outputs": [
    {
     "data": {
      "text/plain": [
       "tuple"
      ]
     },
     "execution_count": 22,
     "metadata": {},
     "output_type": "execute_result"
    }
   ],
   "source": [
    "# Tuple of one element\n",
    "\n",
    "t = (5,)\n",
    "type(t)"
   ]
  },
  {
   "cell_type": "code",
   "execution_count": 23,
   "id": "7d278640",
   "metadata": {},
   "outputs": [
    {
     "data": {
      "text/plain": [
       "tuple"
      ]
     },
     "execution_count": 23,
     "metadata": {},
     "output_type": "execute_result"
    }
   ],
   "source": [
    "x = 1,2,3,4,5,6,7,8,9\n",
    "type(x)"
   ]
  },
  {
   "cell_type": "code",
   "execution_count": 24,
   "id": "b60a8ffb",
   "metadata": {},
   "outputs": [
    {
     "data": {
      "text/plain": [
       "('Hello', 5, 8.3, True)"
      ]
     },
     "execution_count": 24,
     "metadata": {},
     "output_type": "execute_result"
    }
   ],
   "source": [
    "# Tuple allow elements of any data type\n",
    "\n",
    "t = ('Hello', 5, 8.3, True)\n",
    "t"
   ]
  },
  {
   "cell_type": "markdown",
   "id": "9d8b696e",
   "metadata": {},
   "source": [
    "### List"
   ]
  },
  {
   "cell_type": "code",
   "execution_count": 25,
   "id": "4e79dde2",
   "metadata": {},
   "outputs": [
    {
     "data": {
      "text/plain": [
       "7"
      ]
     },
     "execution_count": 25,
     "metadata": {},
     "output_type": "execute_result"
    }
   ],
   "source": [
    "# Ordered\n",
    "\n",
    "lst = [4,5,6,7,2,3,5]\n",
    "lst[3]"
   ]
  },
  {
   "cell_type": "code",
   "execution_count": 26,
   "id": "739578f8",
   "metadata": {},
   "outputs": [
    {
     "data": {
      "text/plain": [
       "['Utkarsh', 'Avanish', 'Sayali', 'Jayant', 'Mohammad Zaid Shaikh']"
      ]
     },
     "execution_count": 26,
     "metadata": {},
     "output_type": "execute_result"
    }
   ],
   "source": [
    "lst = ['Utkarsh', 'Avanish', 'Sayali', 'Jayant', \n",
    "       'Mohammad Zaid Shaikh']\n",
    "lst"
   ]
  },
  {
   "cell_type": "raw",
   "id": "af29e3cb",
   "metadata": {},
   "source": [
    "index(): Returns the index of the first elements with the specified value"
   ]
  },
  {
   "cell_type": "code",
   "execution_count": 27,
   "id": "6511b9a4",
   "metadata": {},
   "outputs": [
    {
     "data": {
      "text/plain": [
       "2"
      ]
     },
     "execution_count": 27,
     "metadata": {},
     "output_type": "execute_result"
    }
   ],
   "source": [
    "lst.index('Sayali')"
   ]
  },
  {
   "cell_type": "raw",
   "id": "29e2e2c3",
   "metadata": {},
   "source": [
    "sort(): Sorts the list"
   ]
  },
  {
   "cell_type": "code",
   "execution_count": 28,
   "id": "e9609eea",
   "metadata": {},
   "outputs": [
    {
     "data": {
      "text/plain": [
       "[2, 2, 3, 3, 3, 5, 6, 6, 7, 7]"
      ]
     },
     "execution_count": 28,
     "metadata": {},
     "output_type": "execute_result"
    }
   ],
   "source": [
    "lst = [5,6,3,7,3,2,6,7,3,2]\n",
    "lst.sort()\n",
    "lst"
   ]
  },
  {
   "cell_type": "raw",
   "id": "19c3ac3f",
   "metadata": {},
   "source": [
    "append(): Adds an element at the end of the list"
   ]
  },
  {
   "cell_type": "code",
   "execution_count": 29,
   "id": "cf582365",
   "metadata": {},
   "outputs": [
    {
     "data": {
      "text/plain": [
       "[2, 4, 6, 8, 10, 12]"
      ]
     },
     "execution_count": 29,
     "metadata": {},
     "output_type": "execute_result"
    }
   ],
   "source": [
    "lst = [2,4,6,8,10]\n",
    "lst.append(12)\n",
    "lst"
   ]
  },
  {
   "cell_type": "raw",
   "id": "6bc7c0a8",
   "metadata": {},
   "source": [
    "extend(): Adds the elements of a collection to the end of the current list"
   ]
  },
  {
   "cell_type": "code",
   "execution_count": 30,
   "id": "0ef2b99e",
   "metadata": {},
   "outputs": [
    {
     "data": {
      "text/plain": [
       "[2, 4, 6, 8, 10, 12, 14, 16, 18, 20]"
      ]
     },
     "execution_count": 30,
     "metadata": {},
     "output_type": "execute_result"
    }
   ],
   "source": [
    "lst.extend([14,16,18,20])\n",
    "lst"
   ]
  },
  {
   "cell_type": "raw",
   "id": "dc9ef39b",
   "metadata": {},
   "source": [
    "pop(): Removes the element at the specified position"
   ]
  },
  {
   "cell_type": "code",
   "execution_count": 31,
   "id": "6588b8c5",
   "metadata": {},
   "outputs": [
    {
     "data": {
      "text/plain": [
       "[2, 4, 6, 10, 12, 14, 16, 18, 20]"
      ]
     },
     "execution_count": 31,
     "metadata": {},
     "output_type": "execute_result"
    }
   ],
   "source": [
    "lst.pop(3)\n",
    "lst"
   ]
  },
  {
   "cell_type": "raw",
   "id": "026130c6",
   "metadata": {},
   "source": [
    "insert(): Adds an element at the specified position"
   ]
  },
  {
   "cell_type": "code",
   "execution_count": 32,
   "id": "f9fd87df",
   "metadata": {},
   "outputs": [
    {
     "data": {
      "text/plain": [
       "[2, 4, 6, 8, 10, 12, 14, 16, 18, 20]"
      ]
     },
     "execution_count": 32,
     "metadata": {},
     "output_type": "execute_result"
    }
   ],
   "source": [
    "lst.insert(3, 8)\n",
    "lst"
   ]
  },
  {
   "cell_type": "markdown",
   "id": "6bdacd35",
   "metadata": {},
   "source": [
    "### Dictionary"
   ]
  },
  {
   "cell_type": "code",
   "execution_count": 33,
   "id": "a95041a3",
   "metadata": {},
   "outputs": [
    {
     "data": {
      "text/plain": [
       "{'Name': 'John',\n",
       " 'Age': 25,\n",
       " 'Job': 'Data Analyst',\n",
       " 'City': 'New York',\n",
       " 'Email': 'john@nyc.com'}"
      ]
     },
     "execution_count": 33,
     "metadata": {},
     "output_type": "execute_result"
    }
   ],
   "source": [
    "d = {'Name': 'John', 'Age': 25, 'Job': 'Data Analyst',\n",
    "    'City': 'New York', 'Email': 'john@nyc.com'}\n",
    "d"
   ]
  },
  {
   "cell_type": "code",
   "execution_count": 48,
   "id": "06cad87a",
   "metadata": {},
   "outputs": [
    {
     "data": {
      "text/plain": [
       "'John'"
      ]
     },
     "execution_count": 48,
     "metadata": {},
     "output_type": "execute_result"
    }
   ],
   "source": [
    "d['Name']"
   ]
  },
  {
   "cell_type": "code",
   "execution_count": 49,
   "id": "3f4075b7",
   "metadata": {},
   "outputs": [
    {
     "data": {
      "text/plain": [
       "{'Name': 'John',\n",
       " 'Age': 25,\n",
       " 'Job': 'Data Analyst',\n",
       " 'City': 'New York',\n",
       " 'Email': 'john@nyc.com',\n",
       " 'Education': 'Masters'}"
      ]
     },
     "execution_count": 49,
     "metadata": {},
     "output_type": "execute_result"
    }
   ],
   "source": [
    "# Adding a new element to the dictionary\n",
    "d['Education'] = 'Masters'\n",
    "d"
   ]
  },
  {
   "cell_type": "raw",
   "id": "3a34c48c",
   "metadata": {},
   "source": [
    "pop(): Removes the element with the specified key"
   ]
  },
  {
   "cell_type": "code",
   "execution_count": 50,
   "id": "9f67ae45",
   "metadata": {},
   "outputs": [
    {
     "data": {
      "text/plain": [
       "{'Name': 'John',\n",
       " 'Age': 25,\n",
       " 'Job': 'Data Analyst',\n",
       " 'Email': 'john@nyc.com',\n",
       " 'Education': 'Masters'}"
      ]
     },
     "execution_count": 50,
     "metadata": {},
     "output_type": "execute_result"
    }
   ],
   "source": [
    "d.pop('City')\n",
    "d"
   ]
  },
  {
   "cell_type": "code",
   "execution_count": 34,
   "id": "5d11a2a3",
   "metadata": {},
   "outputs": [],
   "source": [
    "d = {'Name': 'John',\n",
    " 'Age': 25,\n",
    " 'Job': 'Data Analyst',\n",
    " 'Email': 'john@nyc.com',\n",
    " 'Education': 'Masters'}"
   ]
  },
  {
   "cell_type": "raw",
   "id": "345095dc",
   "metadata": {},
   "source": [
    "items(): Returns all the key-value pairs in the dictionary"
   ]
  },
  {
   "cell_type": "code",
   "execution_count": 35,
   "id": "355c9391",
   "metadata": {},
   "outputs": [
    {
     "data": {
      "text/plain": [
       "dict_items([('Name', 'John'), ('Age', 25), ('Job', 'Data Analyst'), ('Email', 'john@nyc.com'), ('Education', 'Masters')])"
      ]
     },
     "execution_count": 35,
     "metadata": {},
     "output_type": "execute_result"
    }
   ],
   "source": [
    "d.items()"
   ]
  },
  {
   "cell_type": "raw",
   "id": "8277210a",
   "metadata": {},
   "source": [
    "keys(): Returns a list containing the dictionary's keys"
   ]
  },
  {
   "cell_type": "code",
   "execution_count": null,
   "id": "90ff818a",
   "metadata": {},
   "outputs": [],
   "source": [
    "d.keys()"
   ]
  },
  {
   "cell_type": "raw",
   "id": "ca2e46df",
   "metadata": {},
   "source": [
    "values(): Returns a list containing all the dictionary's values"
   ]
  },
  {
   "cell_type": "code",
   "execution_count": 37,
   "id": "9afe2880",
   "metadata": {},
   "outputs": [
    {
     "data": {
      "text/plain": [
       "dict_values(['John', 25, 'Data Analyst', 'john@nyc.com', 'Masters'])"
      ]
     },
     "execution_count": 37,
     "metadata": {},
     "output_type": "execute_result"
    }
   ],
   "source": [
    "d.values()"
   ]
  },
  {
   "cell_type": "markdown",
   "id": "765c3e38",
   "metadata": {},
   "source": [
    "## Sets"
   ]
  },
  {
   "cell_type": "code",
   "execution_count": 43,
   "id": "438e0c9d",
   "metadata": {},
   "outputs": [
    {
     "data": {
      "text/plain": [
       "{1, 2, 3, 4, 5, 6, 7}"
      ]
     },
     "execution_count": 43,
     "metadata": {},
     "output_type": "execute_result"
    }
   ],
   "source": [
    "s = {1,2,3,3,3,3,4,5,6,7}\n",
    "s"
   ]
  },
  {
   "cell_type": "code",
   "execution_count": 45,
   "id": "5e37763c",
   "metadata": {},
   "outputs": [
    {
     "data": {
      "text/plain": [
       "{(1, 2, 3, 4, 5), 1, 2, 3, 4, 5, 6}"
      ]
     },
     "execution_count": 45,
     "metadata": {},
     "output_type": "execute_result"
    }
   ],
   "source": [
    "s = {1,2,3, (1,2,3,4,5), 4,5,6}\n",
    "s"
   ]
  },
  {
   "cell_type": "code",
   "execution_count": 49,
   "id": "350be117",
   "metadata": {},
   "outputs": [
    {
     "data": {
      "text/plain": [
       "set"
      ]
     },
     "execution_count": 49,
     "metadata": {},
     "output_type": "execute_result"
    }
   ],
   "source": [
    "# Empty set\n",
    "\n",
    "x = set()\n",
    "type(x)"
   ]
  },
  {
   "cell_type": "raw",
   "id": "e31c6b85",
   "metadata": {},
   "source": [
    "add(): Adds an element to the set"
   ]
  },
  {
   "cell_type": "code",
   "execution_count": 50,
   "id": "583e5382",
   "metadata": {},
   "outputs": [
    {
     "data": {
      "text/plain": [
       "{1, 2, 3, 4, 5}"
      ]
     },
     "execution_count": 50,
     "metadata": {},
     "output_type": "execute_result"
    }
   ],
   "source": [
    "s = {1,2,3,4,5}\n",
    "s"
   ]
  },
  {
   "cell_type": "code",
   "execution_count": 51,
   "id": "68842872",
   "metadata": {},
   "outputs": [
    {
     "data": {
      "text/plain": [
       "{1, 2, 3, 4, 5, 6}"
      ]
     },
     "execution_count": 51,
     "metadata": {},
     "output_type": "execute_result"
    }
   ],
   "source": [
    "s.add(6)\n",
    "s"
   ]
  },
  {
   "cell_type": "raw",
   "id": "06066753",
   "metadata": {},
   "source": [
    "discard(): Deleted the specified element"
   ]
  },
  {
   "cell_type": "code",
   "execution_count": 52,
   "id": "a29917a6",
   "metadata": {},
   "outputs": [
    {
     "data": {
      "text/plain": [
       "{1, 2, 4, 5, 6}"
      ]
     },
     "execution_count": 52,
     "metadata": {},
     "output_type": "execute_result"
    }
   ],
   "source": [
    "s.discard(3)\n",
    "s"
   ]
  },
  {
   "cell_type": "raw",
   "id": "e605b6d3",
   "metadata": {},
   "source": [
    "pop(): Removes an element from the element"
   ]
  },
  {
   "cell_type": "code",
   "execution_count": 58,
   "id": "6cba7080",
   "metadata": {},
   "outputs": [
    {
     "data": {
      "text/plain": [
       "{2, 3, 4, 5}"
      ]
     },
     "execution_count": 58,
     "metadata": {},
     "output_type": "execute_result"
    }
   ],
   "source": [
    "s.pop()\n",
    "s"
   ]
  },
  {
   "cell_type": "raw",
   "id": "b3d7b745",
   "metadata": {},
   "source": [
    "update(): Updates the set with another collection"
   ]
  },
  {
   "cell_type": "code",
   "execution_count": 54,
   "id": "086c424f",
   "metadata": {},
   "outputs": [
    {
     "data": {
      "text/plain": [
       "{2, 4, 5, 6, 7, 8, 9, 10}"
      ]
     },
     "execution_count": 54,
     "metadata": {},
     "output_type": "execute_result"
    }
   ],
   "source": [
    "s.update([7,8,9,10])\n",
    "s"
   ]
  },
  {
   "cell_type": "raw",
   "id": "2bb05ce5",
   "metadata": {},
   "source": [
    "clear(): Removes all elements from the set"
   ]
  },
  {
   "cell_type": "code",
   "execution_count": 55,
   "id": "beb557cf",
   "metadata": {},
   "outputs": [
    {
     "data": {
      "text/plain": [
       "set()"
      ]
     },
     "execution_count": 55,
     "metadata": {},
     "output_type": "execute_result"
    }
   ],
   "source": [
    "s.clear()\n",
    "s"
   ]
  },
  {
   "cell_type": "code",
   "execution_count": 56,
   "id": "089be2a4",
   "metadata": {},
   "outputs": [
    {
     "ename": "TypeError",
     "evalue": "'set' object is not subscriptable",
     "output_type": "error",
     "traceback": [
      "\u001b[1;31m---------------------------------------------------------------------------\u001b[0m",
      "\u001b[1;31mTypeError\u001b[0m                                 Traceback (most recent call last)",
      "\u001b[1;32m~\\AppData\\Local\\Temp\\ipykernel_16028\\1953280608.py\u001b[0m in \u001b[0;36m<module>\u001b[1;34m\u001b[0m\n\u001b[0;32m      1\u001b[0m \u001b[0ms\u001b[0m \u001b[1;33m=\u001b[0m \u001b[1;33m{\u001b[0m\u001b[1;36m1\u001b[0m\u001b[1;33m,\u001b[0m\u001b[1;36m2\u001b[0m\u001b[1;33m,\u001b[0m\u001b[1;36m3\u001b[0m\u001b[1;33m,\u001b[0m\u001b[1;36m4\u001b[0m\u001b[1;33m,\u001b[0m\u001b[1;36m5\u001b[0m\u001b[1;33m}\u001b[0m\u001b[1;33m\u001b[0m\u001b[1;33m\u001b[0m\u001b[0m\n\u001b[1;32m----> 2\u001b[1;33m \u001b[0ms\u001b[0m\u001b[1;33m[\u001b[0m\u001b[1;36m2\u001b[0m\u001b[1;33m]\u001b[0m\u001b[1;33m\u001b[0m\u001b[1;33m\u001b[0m\u001b[0m\n\u001b[0m",
      "\u001b[1;31mTypeError\u001b[0m: 'set' object is not subscriptable"
     ]
    }
   ],
   "source": [
    "s = {1,2,3,4,5}\n",
    "s[2]"
   ]
  },
  {
   "cell_type": "markdown",
   "id": "b943437c",
   "metadata": {},
   "source": [
    "## Type Casting\n",
    "\n",
    "Covert the data type of a variable"
   ]
  },
  {
   "cell_type": "code",
   "execution_count": 59,
   "id": "a096d34d",
   "metadata": {},
   "outputs": [
    {
     "data": {
      "text/plain": [
       "str"
      ]
     },
     "execution_count": 59,
     "metadata": {},
     "output_type": "execute_result"
    }
   ],
   "source": [
    "x = \"15\"\n",
    "type(x)"
   ]
  },
  {
   "cell_type": "code",
   "execution_count": 60,
   "id": "be6acdce",
   "metadata": {},
   "outputs": [
    {
     "data": {
      "text/plain": [
       "int"
      ]
     },
     "execution_count": 60,
     "metadata": {},
     "output_type": "execute_result"
    }
   ],
   "source": [
    "y = int(x)  # y = int(\"15\") = 15\n",
    "type(y)"
   ]
  },
  {
   "cell_type": "code",
   "execution_count": 61,
   "id": "0f997bfe",
   "metadata": {},
   "outputs": [
    {
     "data": {
      "text/plain": [
       "int"
      ]
     },
     "execution_count": 61,
     "metadata": {},
     "output_type": "execute_result"
    }
   ],
   "source": [
    "x = 10\n",
    "type(x)"
   ]
  },
  {
   "cell_type": "code",
   "execution_count": 62,
   "id": "71c79295",
   "metadata": {},
   "outputs": [
    {
     "data": {
      "text/plain": [
       "10.0"
      ]
     },
     "execution_count": 62,
     "metadata": {},
     "output_type": "execute_result"
    }
   ],
   "source": [
    "y = float(x) # y = float(x) = float(10)\n",
    "y"
   ]
  },
  {
   "cell_type": "code",
   "execution_count": 63,
   "id": "f9e0d42a",
   "metadata": {},
   "outputs": [
    {
     "data": {
      "text/plain": [
       "tuple"
      ]
     },
     "execution_count": 63,
     "metadata": {},
     "output_type": "execute_result"
    }
   ],
   "source": [
    "x = (1,2,3,4)\n",
    "type(x)"
   ]
  },
  {
   "cell_type": "code",
   "execution_count": 64,
   "id": "61af6f19",
   "metadata": {},
   "outputs": [
    {
     "data": {
      "text/plain": [
       "[1, 2, 3, 4]"
      ]
     },
     "execution_count": 64,
     "metadata": {},
     "output_type": "execute_result"
    }
   ],
   "source": [
    "y = list(x)\n",
    "y"
   ]
  },
  {
   "cell_type": "code",
   "execution_count": 65,
   "id": "911fb8eb",
   "metadata": {},
   "outputs": [
    {
     "ename": "ValueError",
     "evalue": "invalid literal for int() with base 10: 'Hello'",
     "output_type": "error",
     "traceback": [
      "\u001b[1;31m---------------------------------------------------------------------------\u001b[0m",
      "\u001b[1;31mValueError\u001b[0m                                Traceback (most recent call last)",
      "\u001b[1;32m~\\AppData\\Local\\Temp\\ipykernel_16028\\887817865.py\u001b[0m in \u001b[0;36m<module>\u001b[1;34m\u001b[0m\n\u001b[0;32m      1\u001b[0m \u001b[0mx\u001b[0m \u001b[1;33m=\u001b[0m \u001b[1;34m'Hello'\u001b[0m\u001b[1;33m\u001b[0m\u001b[1;33m\u001b[0m\u001b[0m\n\u001b[1;32m----> 2\u001b[1;33m \u001b[0my\u001b[0m \u001b[1;33m=\u001b[0m \u001b[0mint\u001b[0m\u001b[1;33m(\u001b[0m\u001b[0mx\u001b[0m\u001b[1;33m)\u001b[0m\u001b[1;33m\u001b[0m\u001b[1;33m\u001b[0m\u001b[0m\n\u001b[0m",
      "\u001b[1;31mValueError\u001b[0m: invalid literal for int() with base 10: 'Hello'"
     ]
    }
   ],
   "source": [
    "x = 'Hello'\n",
    "y = int(x)"
   ]
  },
  {
   "cell_type": "code",
   "execution_count": 66,
   "id": "425288e5",
   "metadata": {},
   "outputs": [
    {
     "name": "stdout",
     "output_type": "stream",
     "text": [
      "Enter your name: Arshdeep\n"
     ]
    },
    {
     "data": {
      "text/plain": [
       "'Arshdeep'"
      ]
     },
     "execution_count": 66,
     "metadata": {},
     "output_type": "execute_result"
    }
   ],
   "source": [
    "name = input('Enter your name: ')\n",
    "name"
   ]
  },
  {
   "cell_type": "code",
   "execution_count": 68,
   "id": "c2cb6720",
   "metadata": {},
   "outputs": [
    {
     "name": "stdout",
     "output_type": "stream",
     "text": [
      "Enter a number: 5\n",
      "Enter a number: 3\n"
     ]
    },
    {
     "data": {
      "text/plain": [
       "8"
      ]
     },
     "execution_count": 68,
     "metadata": {},
     "output_type": "execute_result"
    }
   ],
   "source": [
    "x = int(input('Enter a number: ')) # int('5')=5\n",
    "y = int(input('Enter a number: ')) # int('3')=3\n",
    "x+y  # 5 + 3 = 8"
   ]
  },
  {
   "cell_type": "code",
   "execution_count": null,
   "id": "6fb41922",
   "metadata": {},
   "outputs": [],
   "source": []
  }
 ],
 "metadata": {
  "kernelspec": {
   "display_name": "Python 3 (ipykernel)",
   "language": "python",
   "name": "python3"
  },
  "language_info": {
   "codemirror_mode": {
    "name": "ipython",
    "version": 3
   },
   "file_extension": ".py",
   "mimetype": "text/x-python",
   "name": "python",
   "nbconvert_exporter": "python",
   "pygments_lexer": "ipython3",
   "version": "3.9.13"
  }
 },
 "nbformat": 4,
 "nbformat_minor": 5
}
